{
 "cells": [
  {
   "cell_type": "code",
   "execution_count": 1,
   "metadata": {},
   "outputs": [],
   "source": [
    "import numpy as np\n",
    "from dataProcess import read1PDPTW\n",
    "from solnCheck import check1PDPTW\n",
    "from distance import Distance_EUC_2D\n"
   ]
  },
  {
   "cell_type": "code",
   "execution_count": 2,
   "metadata": {},
   "outputs": [],
   "source": [
    "instance = read1PDPTW('data/1PDPTW_generated/INSTANCES/generated-11-0.txt')"
   ]
  },
  {
   "cell_type": "code",
   "execution_count": 3,
   "metadata": {},
   "outputs": [
    {
     "output_type": "execute_result",
     "data": {
      "text/plain": "11"
     },
     "metadata": {},
     "execution_count": 3
    }
   ],
   "source": [
    "instance['numLocation']"
   ]
  },
  {
   "cell_type": "code",
   "execution_count": 4,
   "metadata": {},
   "outputs": [],
   "source": [
    "feasibleSoln = [1, 10, 7, 11, 9, 5, 2, 8, 6, 3, 4]\n",
    "soln1 = [1, 10, 7, 11, 9, 2, 8, 3, 4]\n",
    "soln2 = [1, 10, 7, 5, 9, 2, 5, 8, 6, 3, 4]\n",
    "soln3 = [1, 5, 3, 7, 9, 10, 2, 4, 6, 8, 9]"
   ]
  },
  {
   "cell_type": "code",
   "execution_count": 5,
   "metadata": {},
   "outputs": [],
   "source": [
    "precedence_check, tw_check, capacity_check, error = check1PDPTW(feasibleSoln, instance)"
   ]
  },
  {
   "cell_type": "code",
   "execution_count": 6,
   "metadata": {},
   "outputs": [
    {
     "output_type": "execute_result",
     "data": {
      "text/plain": "[]"
     },
     "metadata": {},
     "execution_count": 6
    }
   ],
   "source": [
    "error"
   ]
  },
  {
   "cell_type": "code",
   "execution_count": 7,
   "metadata": {},
   "outputs": [
    {
     "output_type": "execute_result",
     "data": {
      "text/plain": "['LOCATION ERROR: not all locations have been visited',\n 'PRECEDENCE ERROR: location 0 visited before location 5']"
     },
     "metadata": {},
     "execution_count": 7
    }
   ],
   "source": [
    "precedence_check, tw_check, capacity_check, error = check1PDPTW(soln1, instance)\n",
    "error"
   ]
  },
  {
   "cell_type": "code",
   "execution_count": null,
   "metadata": {},
   "outputs": [],
   "source": []
  }
 ],
 "metadata": {
  "language_info": {
   "codemirror_mode": {
    "name": "ipython",
    "version": 3
   },
   "file_extension": ".py",
   "mimetype": "text/x-python",
   "name": "python",
   "nbconvert_exporter": "python",
   "pygments_lexer": "ipython3",
   "version": "3.9.5-final"
  },
  "orig_nbformat": 2,
  "kernelspec": {
   "name": "python3.9",
   "display_name": "python3.9"
  }
 },
 "nbformat": 4,
 "nbformat_minor": 2
}