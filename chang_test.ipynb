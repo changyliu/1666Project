{
 "cells": [
  {
   "cell_type": "code",
   "execution_count": 1,
   "metadata": {},
   "outputs": [],
   "source": [
    "import numpy as np\n",
    "from dataProcess import read1PDPTW\n",
    "from solnCheck import check1PDPTW\n",
    "from distance import Distance_EUC_2D\n"
   ]
  },
  {
   "cell_type": "code",
   "execution_count": 2,
   "metadata": {},
   "outputs": [],
   "source": [
    "instance = read1PDPTW('data/1PDPTW_generated/INSTANCES/generated-11-0.txt')"
   ]
  },
  {
   "cell_type": "code",
   "execution_count": 3,
   "metadata": {},
   "outputs": [
    {
     "output_type": "execute_result",
     "data": {
      "text/plain": "11"
     },
     "metadata": {},
     "execution_count": 3
    }
   ],
   "source": [
    "instance['numLocation']"
   ]
  },
  {
   "cell_type": "code",
   "execution_count": 4,
   "metadata": {},
   "outputs": [],
   "source": [
    "feasibleSoln = [1, 10, 7, 11, 9, 5, 2, 8, 6, 3, 4]\n",
    "soln1 = [1, 10, 7, 11, 9, 2, 8, 3, 4]\n",
    "soln2 = [1, 10, 7, 5, 9, 2, 5, 8, 6, 3, 4]\n",
    "soln3 = [1, 5, 3, 7, 9, 10, 2, 4, 6, 8, 9]"
   ]
  },
  {
   "cell_type": "code",
   "execution_count": 5,
   "metadata": {},
   "outputs": [],
   "source": [
    "precedence_check, tw_check, capacity_check, error = check1PDPTW(feasibleSoln, instance)"
   ]
  },
  {
   "cell_type": "code",
   "execution_count": 6,
   "metadata": {},
   "outputs": [
    {
     "output_type": "execute_result",
     "data": {
      "text/plain": "[]"
     },
     "metadata": {},
     "execution_count": 6
    }
   ],
   "source": [
    "error"
   ]
  },
  {
   "cell_type": "code",
   "execution_count": 7,
   "metadata": {},
   "outputs": [
    {
     "output_type": "execute_result",
     "data": {
      "text/plain": "['LOCATION ERROR: not all locations have been visited',\n 'PRECEDENCE ERROR: location 0 visited before location 5']"
     },
     "metadata": {},
     "execution_count": 7
    }
   ],
   "source": [
    "precedence_check, tw_check, capacity_check, error = check1PDPTW(soln1, instance)\n",
    "error"
   ]
  },
  {
   "cell_type": "code",
   "execution_count": 8,
   "metadata": {},
   "outputs": [
    {
     "output_type": "execute_result",
     "data": {
      "text/plain": "[0, 5, 0, 3, 0, 7, 0, 9, 0, 0, 10]"
     },
     "metadata": {},
     "execution_count": 8
    }
   ],
   "source": [
    "instance['pickup']"
   ]
  },
  {
   "cell_type": "code",
   "execution_count": 9,
   "metadata": {},
   "outputs": [
    {
     "output_type": "execute_result",
     "data": {
      "text/plain": "[1, 2, 3, 2, 3, 5]"
     },
     "metadata": {},
     "execution_count": 9
    }
   ],
   "source": [
    "a = [1,2,3]\n",
    "b = [2,3,5]\n",
    "a+ b"
   ]
  },
  {
   "cell_type": "code",
   "execution_count": 10,
   "metadata": {},
   "outputs": [],
   "source": [
    "V = range(instance['numLocation']) # set of vertices\n",
    "P = [loc - 1 for loc in instance['pickup'] if loc != 0]  # set of pickup locations\n",
    "D = [loc - 1 for loc in instance['delivery'] if loc != 0] # set of delivery locations\n"
   ]
  },
  {
   "cell_type": "code",
   "execution_count": 13,
   "metadata": {},
   "outputs": [
    {
     "output_type": "stream",
     "name": "stdout",
     "text": "4\n1\n2\n3\n6\n5\n8\n7\n9\n10\n"
    }
   ],
   "source": [
    "\n",
    "for i in P:\n",
    "    print(i)\n",
    "    print(instance['delivery'][i] - 1)\n",
    "    # MIP.addConstr(s[instance['delivery'][i]] >= s[i] + distMatrix[i][instance['delivery'][i]])"
   ]
  },
  {
   "cell_type": "code",
   "execution_count": 12,
   "metadata": {},
   "outputs": [
    {
     "output_type": "execute_result",
     "data": {
      "text/plain": "[4, 2, 6, 8, 9]"
     },
     "metadata": {},
     "execution_count": 12
    }
   ],
   "source": [
    "P"
   ]
  },
  {
   "cell_type": "code",
   "execution_count": 14,
   "metadata": {},
   "outputs": [
    {
     "output_type": "execute_result",
     "data": {
      "text/plain": "0"
     },
     "metadata": {},
     "execution_count": 14
    }
   ],
   "source": [
    "instance['tw'][0][0]"
   ]
  },
  {
   "cell_type": "code",
   "execution_count": 16,
   "metadata": {},
   "outputs": [
    {
     "output_type": "execute_result",
     "data": {
      "text/plain": "[(0, 1443),\n (256, 802),\n (865, 1119),\n (873, 1359),\n (273, 671),\n (586, 1108),\n (0, 378),\n (473, 813),\n (280, 496),\n (0, 364),\n (11, 533)]"
     },
     "metadata": {},
     "execution_count": 16
    }
   ],
   "source": [
    "instance['tw']"
   ]
  },
  {
   "cell_type": "code",
   "execution_count": null,
   "metadata": {},
   "outputs": [],
   "source": []
  }
 ],
 "metadata": {
  "language_info": {
   "codemirror_mode": {
    "name": "ipython",
    "version": 3
   },
   "file_extension": ".py",
   "mimetype": "text/x-python",
   "name": "python",
   "nbconvert_exporter": "python",
   "pygments_lexer": "ipython3",
   "version": "3.9.5-final"
  },
  "orig_nbformat": 2,
  "kernelspec": {
   "name": "python3.9",
   "display_name": "python3.9"
  }
 },
 "nbformat": 4,
 "nbformat_minor": 2
}